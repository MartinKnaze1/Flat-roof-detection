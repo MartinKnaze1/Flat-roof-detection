{
 "cells": [
  {
   "cell_type": "code",
   "execution_count": 1,
   "metadata": {},
   "outputs": [],
   "source": [
    "import numpy as np\n",
    "import rasterio\n",
    "import cv2\n",
    "import matplotlib.pyplot as plt\n",
    "from shapely.geometry import Polygon"
   ]
  },
  {
   "cell_type": "code",
   "execution_count": 2,
   "metadata": {},
   "outputs": [],
   "source": [
    "building_mask_path = r\"..\\data\\raw\\Building_Mask_Example_1.tif\"\n",
    "flat_roof_mask_path = r\"..\\data\\raw\\Reproj_30cm_London_Flat_Roofs_Example_1.tif\"\n",
    "sat_image_path = r\"..\\data\\raw\\102220103020-1030050093F91800-visual.tif\""
   ]
  },
  {
   "cell_type": "code",
   "execution_count": 3,
   "metadata": {},
   "outputs": [],
   "source": [
    "building_mask = cv2.imread(building_mask_path, cv2.IMREAD_UNCHANGED)\n",
    "building_mask = building_mask.astype(np.uint8)\n",
    "\n",
    "flat_roof_mask = cv2.imread(flat_roof_mask_path, cv2.IMREAD_UNCHANGED)\n",
    "flat_roof_mask = flat_roof_mask.astype(np.uint8)\n",
    "\n",
    "sat_image = cv2.imread(sat_image_path, cv2.COLOR_BGR2RGB)\n",
    "sat_image = sat_image.astype(np.uint8)"
   ]
  },
  {
   "cell_type": "code",
   "execution_count": 4,
   "metadata": {},
   "outputs": [],
   "source": [
    "building_contours, contour_hierarchy = cv2.findContours(building_mask, mode=cv2.RETR_TREE, method=cv2.CHAIN_APPROX_SIMPLE)"
   ]
  },
  {
   "cell_type": "code",
   "execution_count": 73,
   "metadata": {},
   "outputs": [],
   "source": [
    "# Initialise a black image to be filled with contours\n",
    "out = np.zeros((building_mask.shape[0], building_mask.shape[1]))\n",
    "\n",
    "# Iterate through the contours, adding them one by one into the black image\n",
    "for i, contour in enumerate(building_contours):\n",
    "    if (contour_hierarchy[0, i, 3] == -1):\n",
    "        cv2.drawContours(out, [contour], -1, 1, 2)"
   ]
  },
  {
   "cell_type": "code",
   "execution_count": 12,
   "metadata": {},
   "outputs": [
    {
     "ename": "KeyboardInterrupt",
     "evalue": "",
     "output_type": "error",
     "traceback": [
      "\u001b[1;31m---------------------------------------------------------------------------\u001b[0m",
      "\u001b[1;31mKeyboardInterrupt\u001b[0m                         Traceback (most recent call last)",
      "\u001b[1;32mc:\\Users\\martin.knaze\\OneDrive - Arup\\Projects\\Flat roof detection\\notebooks\\Object_detection.ipynb Cell 6\u001b[0m in \u001b[0;36m1\n\u001b[0;32m     <a href='vscode-notebook-cell:/c%3A/Users/martin.knaze/OneDrive%20-%20Arup/Projects/Flat%20roof%20detection/notebooks/Object_detection.ipynb#X11sZmlsZQ%3D%3D?line=9'>10</a>\u001b[0m centre_y \u001b[39m=\u001b[39m \u001b[39mint\u001b[39m(M[\u001b[39m'\u001b[39m\u001b[39mm01\u001b[39m\u001b[39m'\u001b[39m]\u001b[39m/\u001b[39mM[\u001b[39m'\u001b[39m\u001b[39mm00\u001b[39m\u001b[39m'\u001b[39m])\n\u001b[0;32m     <a href='vscode-notebook-cell:/c%3A/Users/martin.knaze/OneDrive%20-%20Arup/Projects/Flat%20roof%20detection/notebooks/Object_detection.ipynb#X11sZmlsZQ%3D%3D?line=11'>12</a>\u001b[0m \u001b[39mif\u001b[39;00m (\u001b[39m256\u001b[39m \u001b[39m<\u001b[39m centre_x \u001b[39m<\u001b[39m building_mask\u001b[39m.\u001b[39mshape[\u001b[39m0\u001b[39m] \u001b[39m-\u001b[39m \u001b[39m256\u001b[39m) \u001b[39mand\u001b[39;00m (\u001b[39m256\u001b[39m \u001b[39m<\u001b[39m centre_y \u001b[39m<\u001b[39m building_mask\u001b[39m.\u001b[39mshape[\u001b[39m1\u001b[39m] \u001b[39m-\u001b[39m \u001b[39m256\u001b[39m):\n\u001b[1;32m---> <a href='vscode-notebook-cell:/c%3A/Users/martin.knaze/OneDrive%20-%20Arup/Projects/Flat%20roof%20detection/notebooks/Object_detection.ipynb#X11sZmlsZQ%3D%3D?line=13'>14</a>\u001b[0m     sat_image_mask \u001b[39m=\u001b[39m np\u001b[39m.\u001b[39;49mzeros((sat_image\u001b[39m.\u001b[39;49mshape[\u001b[39m0\u001b[39;49m], sat_image\u001b[39m.\u001b[39;49mshape[\u001b[39m1\u001b[39;49m], \u001b[39m3\u001b[39;49m))\u001b[39m.\u001b[39;49mastype(np\u001b[39m.\u001b[39;49muint8)\n\u001b[0;32m     <a href='vscode-notebook-cell:/c%3A/Users/martin.knaze/OneDrive%20-%20Arup/Projects/Flat%20roof%20detection/notebooks/Object_detection.ipynb#X11sZmlsZQ%3D%3D?line=14'>15</a>\u001b[0m     cv2\u001b[39m.\u001b[39mdrawContours(sat_image_mask, [contour], \u001b[39m-\u001b[39m\u001b[39m1\u001b[39m, color\u001b[39m=\u001b[39m(\u001b[39m255\u001b[39m, \u001b[39m255\u001b[39m, \u001b[39m255\u001b[39m), thickness\u001b[39m=\u001b[39mcv2\u001b[39m.\u001b[39mFILLED)\n\u001b[0;32m     <a href='vscode-notebook-cell:/c%3A/Users/martin.knaze/OneDrive%20-%20Arup/Projects/Flat%20roof%20detection/notebooks/Object_detection.ipynb#X11sZmlsZQ%3D%3D?line=15'>16</a>\u001b[0m     masked_sat_image \u001b[39m=\u001b[39m cv2\u001b[39m.\u001b[39mbitwise_and(sat_image, sat_image_mask)\n",
      "\u001b[1;31mKeyboardInterrupt\u001b[0m: "
     ]
    }
   ],
   "source": [
    "# Adapted from https://www.geeksforgeeks.org/python-opencv-find-center-of-contour/\n",
    "for i, contour in enumerate(building_contours):\n",
    "    if (contour_hierarchy[0, i, 3] == -1):\n",
    "\n",
    "        M = cv2.moments(contour)\n",
    "\n",
    "        if M['m00'] != 0:\n",
    "\n",
    "            centre_x = int(M['m10']/M['m00'])\n",
    "            centre_y = int(M['m01']/M['m00'])\n",
    "\n",
    "            if (256 < centre_x < building_mask.shape[0] - 256) and (256 < centre_y < building_mask.shape[1] - 256):\n",
    "\n",
    "                sat_image_mask = np.zeros((sat_image.shape[0], sat_image.shape[1], 3)).astype(np.uint8)\n",
    "                cv2.drawContours(sat_image_mask, [contour], -1, color=(255, 255, 255), thickness=cv2.FILLED)\n",
    "                masked_sat_image = cv2.bitwise_and(sat_image, sat_image_mask)\n",
    "\n",
    "                left_boundary = centre_x - 256\n",
    "                right_boundary = centre_x + 256            \n",
    "                bottom_boundary = centre_y - 256\n",
    "                top_boundary = centre_y + 256\n",
    "                \n",
    "                sat_img_tile = masked_sat_image[left_boundary:right_boundary, bottom_boundary:top_boundary, :]\n",
    "                cv2.imwrite(f\"../data/interim/sat_image_mask_{i}.tif\", sat_image_mask)\n",
    "                if i > 1000:\n",
    "                    break\n",
    "            "
   ]
  },
  {
   "cell_type": "code",
   "execution_count": 8,
   "metadata": {},
   "outputs": [
    {
     "data": {
      "text/plain": [
       "True"
      ]
     },
     "execution_count": 8,
     "metadata": {},
     "output_type": "execute_result"
    }
   ],
   "source": [
    "cv2.imwrite(r\"..\\data\\interim\\sat_image_tile.png\", sat_img_tile)"
   ]
  },
  {
   "cell_type": "code",
   "execution_count": 9,
   "metadata": {},
   "outputs": [
    {
     "data": {
      "text/plain": [
       "True"
      ]
     },
     "execution_count": 9,
     "metadata": {},
     "output_type": "execute_result"
    }
   ],
   "source": [
    "cv2.imwrite(r\"..\\data\\interim\\sat_image_mask.tif\", sat_image_mask)"
   ]
  }
 ],
 "metadata": {
  "kernelspec": {
   "display_name": "CDMX",
   "language": "python",
   "name": "python3"
  },
  "language_info": {
   "codemirror_mode": {
    "name": "ipython",
    "version": 3
   },
   "file_extension": ".py",
   "mimetype": "text/x-python",
   "name": "python",
   "nbconvert_exporter": "python",
   "pygments_lexer": "ipython3",
   "version": "3.9.13"
  },
  "orig_nbformat": 4
 },
 "nbformat": 4,
 "nbformat_minor": 2
}
