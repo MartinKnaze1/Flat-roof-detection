{
 "cells": [
  {
   "cell_type": "code",
   "execution_count": 2,
   "metadata": {},
   "outputs": [],
   "source": [
    "import numpy as np\n",
    "import rasterio\n",
    "import cv2\n",
    "import matplotlib.pyplot as plt\n",
    "from shapely.geometry import Polygon"
   ]
  },
  {
   "cell_type": "code",
   "execution_count": 3,
   "metadata": {},
   "outputs": [],
   "source": [
    "building_mask_path = r\"..\\data\\raw\\Building_Mask_Example_1.tif\"\n",
    "flat_roof_mask_path = r\"..\\data\\raw\\Reproj_30cm_London_Flat_Roofs_Example_1.tif\"\n",
    "sat_image_path = r\"..\\data\\raw\\102220103020-1030050093F91800-visual.tif\""
   ]
  },
  {
   "cell_type": "code",
   "execution_count": 19,
   "metadata": {},
   "outputs": [],
   "source": [
    "building_mask = cv2.imread(building_mask_path, cv2.IMREAD_UNCHANGED)\n",
    "building_mask = building_mask.astype(np.uint8)\n",
    "\n",
    "flat_roof_mask = cv2.imread(flat_roof_mask_path, cv2.IMREAD_UNCHANGED)\n",
    "flat_roof_mask = flat_roof_mask.astype(np.uint8)\n",
    "\n",
    "sat_image = cv2.imread(sat_image_path, cv2.COLOR_BGR2RGB)\n",
    "sat_image = sat_image.astype(np.uint8)"
   ]
  },
  {
   "cell_type": "code",
   "execution_count": 5,
   "metadata": {},
   "outputs": [],
   "source": [
    "building_contours, contour_hierarchy = cv2.findContours(building_mask, mode=cv2.RETR_TREE, method=cv2.CHAIN_APPROX_SIMPLE)"
   ]
  },
  {
   "cell_type": "code",
   "execution_count": 73,
   "metadata": {},
   "outputs": [],
   "source": [
    "# Initialise a black image to be filled with contours\n",
    "out = np.zeros((building_mask.shape[0], building_mask.shape[1]))\n",
    "\n",
    "# Iterate through the contours, adding them one by one into the black image\n",
    "for i, contour in enumerate(building_contours):\n",
    "    if (contour_hierarchy[0, i, 3] == -1):\n",
    "        cv2.drawContours(out, [contour], -1, 1, 2)"
   ]
  },
  {
   "cell_type": "code",
   "execution_count": null,
   "metadata": {},
   "outputs": [],
   "source": []
  },
  {
   "cell_type": "code",
   "execution_count": 9,
   "metadata": {},
   "outputs": [],
   "source": [
    "out = np.zeros((building_mask.shape[0], building_mask.shape[1]))\n",
    "\n",
    "for i, contour in enumerate(building_contours):\n",
    "    if (contour_hierarchy[0, i, 3] == -1):\n",
    "\n",
    "        M = cv2.moments(contour)\n",
    "\n",
    "        if M['m00'] != 0:\n",
    "\n",
    "            centre_x = int(M['m10']/M['m00'])\n",
    "            centre_y = int(M['m01']/M['m00'])\n",
    "            cv2.drawContours(out, [contour], -1, 1, 2)\n",
    "\n",
    "            cv2.circle(out, (centre_x, centre_y), 7, 1, -1)"
   ]
  },
  {
   "cell_type": "code",
   "execution_count": 39,
   "metadata": {},
   "outputs": [
    {
     "name": "stdout",
     "output_type": "stream",
     "text": [
      "1825 [0]\n",
      "1841 [0]\n",
      "1843 [0]\n"
     ]
    },
    {
     "ename": "KeyboardInterrupt",
     "evalue": "",
     "output_type": "error",
     "traceback": [
      "\u001b[1;31m---------------------------------------------------------------------------\u001b[0m",
      "\u001b[1;31mKeyboardInterrupt\u001b[0m                         Traceback (most recent call last)",
      "\u001b[1;32mc:\\Users\\martin.knaze\\OneDrive - Arup\\Projects\\Flat roof detection\\notebooks\\Object_detection.ipynb Cell 8\u001b[0m in \u001b[0;36m2\n\u001b[0;32m     <a href='vscode-notebook-cell:/c%3A/Users/martin.knaze/OneDrive%20-%20Arup/Projects/Flat%20roof%20detection/notebooks/Object_detection.ipynb#X11sZmlsZQ%3D%3D?line=18'>19</a>\u001b[0m cv2\u001b[39m.\u001b[39mdrawContours(sat_image_mask, [contour], \u001b[39m-\u001b[39m\u001b[39m1\u001b[39m, color\u001b[39m=\u001b[39m(\u001b[39m255\u001b[39m, \u001b[39m255\u001b[39m, \u001b[39m255\u001b[39m), thickness\u001b[39m=\u001b[39mcv2\u001b[39m.\u001b[39mFILLED)\n\u001b[0;32m     <a href='vscode-notebook-cell:/c%3A/Users/martin.knaze/OneDrive%20-%20Arup/Projects/Flat%20roof%20detection/notebooks/Object_detection.ipynb#X11sZmlsZQ%3D%3D?line=20'>21</a>\u001b[0m masked_sat_image \u001b[39m=\u001b[39m cv2\u001b[39m.\u001b[39mbitwise_and(sat_image, sat_image_mask)\n\u001b[1;32m---> <a href='vscode-notebook-cell:/c%3A/Users/martin.knaze/OneDrive%20-%20Arup/Projects/Flat%20roof%20detection/notebooks/Object_detection.ipynb#X11sZmlsZQ%3D%3D?line=21'>22</a>\u001b[0m \u001b[39mprint\u001b[39m(i, np\u001b[39m.\u001b[39;49munique(masked_sat_image))\n\u001b[0;32m     <a href='vscode-notebook-cell:/c%3A/Users/martin.knaze/OneDrive%20-%20Arup/Projects/Flat%20roof%20detection/notebooks/Object_detection.ipynb#X11sZmlsZQ%3D%3D?line=22'>23</a>\u001b[0m \u001b[39m# masked_sat_image = sat_image[:, :, sat_image_mask == 1]\u001b[39;00m\n\u001b[0;32m     <a href='vscode-notebook-cell:/c%3A/Users/martin.knaze/OneDrive%20-%20Arup/Projects/Flat%20roof%20detection/notebooks/Object_detection.ipynb#X11sZmlsZQ%3D%3D?line=24'>25</a>\u001b[0m left_boundary \u001b[39m=\u001b[39m centre_x \u001b[39m-\u001b[39m \u001b[39m128\u001b[39m\n",
      "File \u001b[1;32m<__array_function__ internals>:180\u001b[0m, in \u001b[0;36munique\u001b[1;34m(*args, **kwargs)\u001b[0m\n",
      "File \u001b[1;32mc:\\ProgramData\\Anaconda3\\envs\\CDMX\\lib\\site-packages\\numpy\\lib\\arraysetops.py:274\u001b[0m, in \u001b[0;36munique\u001b[1;34m(ar, return_index, return_inverse, return_counts, axis, equal_nan)\u001b[0m\n\u001b[0;32m    272\u001b[0m ar \u001b[39m=\u001b[39m np\u001b[39m.\u001b[39masanyarray(ar)\n\u001b[0;32m    273\u001b[0m \u001b[39mif\u001b[39;00m axis \u001b[39mis\u001b[39;00m \u001b[39mNone\u001b[39;00m:\n\u001b[1;32m--> 274\u001b[0m     ret \u001b[39m=\u001b[39m _unique1d(ar, return_index, return_inverse, return_counts, \n\u001b[0;32m    275\u001b[0m                     equal_nan\u001b[39m=\u001b[39;49mequal_nan)\n\u001b[0;32m    276\u001b[0m     \u001b[39mreturn\u001b[39;00m _unpack_tuple(ret)\n\u001b[0;32m    278\u001b[0m \u001b[39m# axis was specified and not None\u001b[39;00m\n",
      "File \u001b[1;32mc:\\ProgramData\\Anaconda3\\envs\\CDMX\\lib\\site-packages\\numpy\\lib\\arraysetops.py:336\u001b[0m, in \u001b[0;36m_unique1d\u001b[1;34m(ar, return_index, return_inverse, return_counts, equal_nan)\u001b[0m\n\u001b[0;32m    334\u001b[0m     aux \u001b[39m=\u001b[39m ar[perm]\n\u001b[0;32m    335\u001b[0m \u001b[39melse\u001b[39;00m:\n\u001b[1;32m--> 336\u001b[0m     ar\u001b[39m.\u001b[39;49msort()\n\u001b[0;32m    337\u001b[0m     aux \u001b[39m=\u001b[39m ar\n\u001b[0;32m    338\u001b[0m mask \u001b[39m=\u001b[39m np\u001b[39m.\u001b[39mempty(aux\u001b[39m.\u001b[39mshape, dtype\u001b[39m=\u001b[39mnp\u001b[39m.\u001b[39mbool_)\n",
      "\u001b[1;31mKeyboardInterrupt\u001b[0m: "
     ]
    }
   ],
   "source": [
    "# Adapted from https://www.geeksforgeeks.org/python-opencv-find-center-of-contour/\n",
    "white_arr = np.full((sat_image.shape[0], sat_image.shape[1], 3), 255)\n",
    "\n",
    "for i, contour in enumerate(building_contours):\n",
    "    if (contour_hierarchy[0, i, 3] == -1):\n",
    "\n",
    "        M = cv2.moments(contour)\n",
    "\n",
    "        if M['m00'] != 0:\n",
    "\n",
    "            centre_x = int(M['m10']/M['m00'])\n",
    "            centre_y = int(M['m01']/M['m00'])\n",
    "\n",
    "            if cv2.contourArea(contour) > 250:\n",
    "\n",
    "                if (2048 < centre_x < building_mask.shape[0] - 1024) and (2048 < centre_y < building_mask.shape[1] - 1024):\n",
    "\n",
    "                    sat_image_mask = np.zeros((sat_image.shape[0], sat_image.shape[1], 3)).astype(np.uint8)\n",
    "                    cv2.drawContours(sat_image_mask, [contour], -1, color=(255, 255, 255), thickness=cv2.FILLED)\n",
    "\n",
    "                    masked_sat_image = cv2.bitwise_and(sat_image, sat_image_mask)\n",
    "                    print(i, np.unique(masked_sat_image))\n",
    "                    # masked_sat_image = sat_image[:, :, sat_image_mask == 1]\n",
    "\n",
    "                    left_boundary = centre_x - 128\n",
    "                    right_boundary = centre_x + 128            \n",
    "                    bottom_boundary = centre_y - 128\n",
    "                    top_boundary = centre_y + 128\n",
    "                    \n",
    "                    sat_img_tile = masked_sat_image[left_boundary:right_boundary, bottom_boundary:top_boundary, :]\n",
    "                    cv2.imwrite(f\"../data/interim/Satellite tiles/sat_image_tile_{i}.tif\", sat_img_tile)\n",
    "            "
   ]
  },
  {
   "cell_type": "code",
   "execution_count": 36,
   "metadata": {},
   "outputs": [
    {
     "data": {
      "text/plain": [
       "<matplotlib.image.AxesImage at 0x169869cddc0>"
      ]
     },
     "execution_count": 36,
     "metadata": {},
     "output_type": "execute_result"
    },
    {
     "data": {
      "image/png": "[encoded data removed]",
      "text/plain": [
       "<Figure size 640x480 with 1 Axes>"
      ]
     },
     "metadata": {},
     "output_type": "display_data"
    }
   ],
   "source": [
    "plt.imshow(sat_image_mask)"
   ]
  },
  {
   "cell_type": "code",
   "execution_count": 37,
   "metadata": {},
   "outputs": [
    {
     "data": {
      "text/plain": [
       "array([  0, 255], dtype=uint8)"
      ]
     },
     "execution_count": 37,
     "metadata": {},
     "output_type": "execute_result"
    }
   ],
   "source": [
    "np.unique(sat_image_mask)"
   ]
  },
  {
   "cell_type": "code",
   "execution_count": 22,
   "metadata": {},
   "outputs": [
    {
     "data": {
      "text/plain": [
       "True"
      ]
     },
     "execution_count": 22,
     "metadata": {},
     "output_type": "execute_result"
    }
   ],
   "source": [
    "cv2.imwrite(r\"..\\data\\interim\\sat_image_mask.png\", sat_image)"
   ]
  },
  {
   "cell_type": "code",
   "execution_count": 9,
   "metadata": {},
   "outputs": [
    {
     "data": {
      "text/plain": [
       "True"
      ]
     },
     "execution_count": 9,
     "metadata": {},
     "output_type": "execute_result"
    }
   ],
   "source": [
    "cv2.imwrite(r\"..\\data\\interim\\sat_image_mask.tif\", sat_image_mask)"
   ]
  }
 ],
 "metadata": {
  "kernelspec": {
   "display_name": "CDMX",
   "language": "python",
   "name": "python3"
  },
  "language_info": {
   "codemirror_mode": {
    "name": "ipython",
    "version": 3
   },
   "file_extension": ".py",
   "mimetype": "text/x-python",
   "name": "python",
   "nbconvert_exporter": "python",
   "pygments_lexer": "ipython3",
   "version": "3.9.13"
  },
  "orig_nbformat": 4
 },
 "nbformat": 4,
 "nbformat_minor": 2
}
