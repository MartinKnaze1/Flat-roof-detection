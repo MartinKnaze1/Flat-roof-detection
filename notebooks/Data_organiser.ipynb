{
 "cells": [
  {
   "cell_type": "code",
   "execution_count": 28,
   "metadata": {},
   "outputs": [],
   "source": [
    "import os\n",
    "import glob\n",
    "import json\n",
    "import shutil"
   ]
  },
  {
   "cell_type": "code",
   "execution_count": 9,
   "metadata": {},
   "outputs": [],
   "source": [
    "all_imgs_path = r\"..\\data\\raw\\Data from Steve\\images\"\n",
    "class_idx_path = r\"..\\data\\raw\\Data from Steve\\objects.json\""
   ]
  },
  {
   "cell_type": "code",
   "execution_count": 12,
   "metadata": {},
   "outputs": [],
   "source": [
    "file_reader = open(class_idx_path, 'r')\n",
    "objects = json.load(file_reader)"
   ]
  },
  {
   "cell_type": "code",
   "execution_count": 29,
   "metadata": {},
   "outputs": [],
   "source": [
    "flat_roof_idx = objects['FlatRoofAreas'].keys()\n",
    "flat_roof_idx = [int(i) - 1 for i in flat_roof_idx]"
   ]
  },
  {
   "cell_type": "code",
   "execution_count": 34,
   "metadata": {},
   "outputs": [],
   "source": [
    "pitched_roof_idx = list(range(0, 160))\n",
    "pitched_roof_idx = [i for i in pitched_roof_idx if i not in flat_roof_idx]"
   ]
  },
  {
   "cell_type": "code",
   "execution_count": 21,
   "metadata": {},
   "outputs": [],
   "source": [
    "all_imgs = glob.glob(all_imgs_path + '/*')"
   ]
  },
  {
   "cell_type": "code",
   "execution_count": 35,
   "metadata": {},
   "outputs": [],
   "source": [
    "for i in range(160):\n",
    "    try:\n",
    "        img = all_imgs[i]\n",
    "\n",
    "        assert i in flat_roof_idx or i in pitched_roof_idx\n",
    "\n",
    "        if i in flat_roof_idx:\n",
    "            target_fp = img.replace('images', 'train\\\\true')\n",
    "        elif i in pitched_roof_idx:\n",
    "            target_fp = img.replace('images', 'train\\\\false')\n",
    "        shutil.copyfile(img, target_fp)\n",
    "    except IndexError:\n",
    "        pass"
   ]
  },
  {
   "cell_type": "code",
   "execution_count": null,
   "metadata": {},
   "outputs": [],
   "source": []
  }
 ],
 "metadata": {
  "kernelspec": {
   "display_name": "CDMX",
   "language": "python",
   "name": "python3"
  },
  "language_info": {
   "codemirror_mode": {
    "name": "ipython",
    "version": 3
   },
   "file_extension": ".py",
   "mimetype": "text/x-python",
   "name": "python",
   "nbconvert_exporter": "python",
   "pygments_lexer": "ipython3",
   "version": "3.9.13"
  },
  "orig_nbformat": 4
 },
 "nbformat": 4,
 "nbformat_minor": 2
}
